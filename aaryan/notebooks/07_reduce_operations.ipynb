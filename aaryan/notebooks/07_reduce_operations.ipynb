{
 "cells": [
  {
   "cell_type": "code",
   "execution_count": null,
   "metadata": {
    "vscode": {
     "languageId": "python"
    }
   },
   "outputs": [],
   "source": [
    "import numpy as np\n",
    "from legate.timing import time\n",
    "import cunumeric as cu\n",
    "import scipy as sc\n",
    "import pyfftw\n",
    "from tqdm import tqdm\n",
    "import matplotlib.pyplot as plt\n",
    "# Set random seed for reproducibility\n",
    "np.random.seed(714)\n",
    "cu.random.seed(714)"
   ]
  },
  {
   "cell_type": "code",
   "execution_count": 2,
   "metadata": {
    "vscode": {
     "languageId": "python"
    }
   },
   "outputs": [],
   "source": [
    "def ternary_numpy(n, num_iter = 2000):\n",
    "    # Grid dimensions and constants\n",
    "    Nx, Ny = n, n\n",
    "    dx, dy = 1.0, 1.0  # Spatial resolution\n",
    "    dt = 0.1  # Time step\n",
    "\n",
    "    # Initialize concentrations\n",
    "    cA = (1.0 / 3) + np.random.normal(0, 0.001, (Nx, Ny))\n",
    "    cB = (1.0 / 3) + np.random.normal(0, 0.001, (Nx, Ny))\n",
    "    cC = 1 - cA - cB\n",
    "\n",
    "    start_time = time(\"s\")\n",
    "\n",
    "    # Create wave number arrays adjusted for rfft2\n",
    "    kx = 2 * np.pi * np.fft.rfftfreq(Nx, d=dx)\n",
    "    ky = 2 * np.pi * np.fft.fftfreq(Ny, d=dy)\n",
    "    kx, ky = np.meshgrid(kx, ky)\n",
    "    k2 = kx**2 + ky**2\n",
    "    k4 = k2**2\n",
    "\n",
    "    # Constants for the differential operators and reaction parameters\n",
    "    M_AA, M_BB, M_AB = 1, 1, 0.5\n",
    "    kA, kB, kC = 1.0, 1.0, 1.0\n",
    "    kAA = kA + kC\n",
    "    kBB = kB + kC\n",
    "    kAB = kC\n",
    "    A1, A2, A3, B = 1.0, 1.0, 1.0, 12.0\n",
    "\n",
    "    # Precompute lhs\n",
    "    lhsA = 1 + 2 * dt * k4 * (M_AA * kAA - M_AB * kAB)\n",
    "    lhsB = 1 + 2 * dt * k4 * (M_BB * kBB - M_AB * kAB)\n",
    "\n",
    "    # Coordinates\n",
    "    x = np.arange(0, Nx) * dx\n",
    "    y = np.arange(0, Ny) * dy\n",
    "    z = np.zeros(1)  # Since this is a 2D data set\n",
    "\n",
    "    # Simulation loop\n",
    "    for n in range(num_iter):\n",
    "        gA = 2 * A1 * cA * cB**2 - 2 * A2 * cB**2 * cC - 2 * A3 * cA**2 * cC + 2 * A3 * cA * cC**2 - 2 * B * cA**2 * cB**2 * cC + 2 * B * cA * cB**2 * cC**2\n",
    "        gB = 2 * A1 * cA**2 * cB - 2 * A2 * cB**2 * cC + 2 * A2 * cB * cC**2 - 2 * A3 * cA**2 * cC - 2 * B * cA**2 * cB**2 * cC + 2 * B * cA**2 * cB * cC**2\n",
    "        \n",
    "        # Fourier transforms\n",
    "        cA_tilda = np.fft.rfft2(cA)\n",
    "        cB_tilda = np.fft.rfft2(cB)\n",
    "        gA_tilda = np.fft.rfft2(gA)\n",
    "        gB_tilda = np.fft.rfft2(gB)\n",
    "\n",
    "        # Update in Fourier space\n",
    "        cA_tilda = (cA_tilda - k2 * dt * (M_AA * gA_tilda - M_AB * gB_tilda) - 2 * k4 * dt * cB_tilda * (M_AA * kAB - M_AB * kBB)) / lhsA\n",
    "        cB_tilda = (cB_tilda - k2 * dt * (M_BB * gB_tilda - M_AB * gA_tilda) - 2 * k4 * dt * cA_tilda * (M_BB * kAB - M_AB * kAA)) / lhsB\n",
    "\n",
    "        # Inverse Fourier transforms to update concentrations\n",
    "        cA = np.fft.irfft2(cA_tilda)\n",
    "        cB = np.fft.irfft2(cB_tilda)\n",
    "        cC = 1 - cA - cB\n",
    "\n",
    "        # Clip concentrations\n",
    "        cA = np.clip(cA, 0, 1)\n",
    "        cB = np.clip(cB, 0, 1)\n",
    "        cC = np.clip(cC, 0, 1)\n",
    "\n",
    "    # Compute microstructure\n",
    "    microstruct = np.zeros((Nx, Ny))\n",
    "    microstruct = np.where((cA < 0.5) & (cB < 0.5) & (cC < 0.5), 0, microstruct)\n",
    "    microstruct = np.where(cA > 0.5, cA, microstruct)\n",
    "    microstruct = np.where(cB > 0.5, 0.65 * cB, microstruct)\n",
    "    microstruct = np.where(cC > 0.5, 0.35 * cC, microstruct)\n",
    "\n",
    "    end_time = time(\"s\")\n",
    "    execution_time  = end_time - start_time\n",
    "    return execution_time"
   ]
  },
  {
   "cell_type": "code",
   "execution_count": 3,
   "metadata": {
    "vscode": {
     "languageId": "python"
    }
   },
   "outputs": [],
   "source": [
    "def ternary_cunumeric_naive(n, num_iter = 2000):\n",
    "    '''\n",
    "    Naive method: Replace numpy with cunumeric.\n",
    "    '''\n",
    "    # Grid dimensions and constants\n",
    "    Nx, Ny = n, n\n",
    "    dx, dy = 1.0, 1.0  # Spatial resolution\n",
    "    dt = 0.1  # Time step\n",
    "\n",
    "    # Initialize concentrations\n",
    "    cA = (1.0 / 3) + cu.random.normal(0, 0.001, (Nx, Ny))\n",
    "    cB = (1.0 / 3) + cu.random.normal(0, 0.001, (Nx, Ny))\n",
    "    cC = 1 - cA - cB\n",
    "\n",
    "    start_time = time(\"s\")\n",
    "\n",
    "    # Create wave number arrays adjusted for rfft2\n",
    "    kx = 2 * cu.pi * cu.fft.rfftfreq(Nx, d=dx)\n",
    "    ky = 2 * cu.pi * cu.fft.fftfreq(Ny, d=dy)\n",
    "    kx, ky = cu.meshgrid(kx, ky)\n",
    "    k2 = kx**2 + ky**2\n",
    "    k4 = k2**2\n",
    "\n",
    "    # Constants for the differential operators and reaction parameters\n",
    "    M_AA, M_BB, M_AB = 1, 1, 0.5\n",
    "    kA, kB, kC = 1.0, 1.0, 1.0\n",
    "    kAA = kA + kC\n",
    "    kBB = kB + kC\n",
    "    kAB = kC\n",
    "    A1, A2, A3, B = 1.0, 1.0, 1.0, 12.0\n",
    "\n",
    "    # Precompute lhs\n",
    "    lhsA = 1 + 2 * dt * k4 * (M_AA * kAA - M_AB * kAB)\n",
    "    lhsB = 1 + 2 * dt * k4 * (M_BB * kBB - M_AB * kAB)\n",
    "\n",
    "    # Coordinates\n",
    "    x = cu.arange(0, Nx) * dx\n",
    "    y = cu.arange(0, Ny) * dy\n",
    "    z = cu.zeros(1)  # Since this is a 2D data set\n",
    "\n",
    "    # Simulation loop\n",
    "    for n in range(num_iter):\n",
    "        gA = 2 * A1 * cA * cB**2 - 2 * A2 * cB**2 * cC - 2 * A3 * cA**2 * cC + 2 * A3 * cA * cC**2 - 2 * B * cA**2 * cB**2 * cC + 2 * B * cA * cB**2 * cC**2\n",
    "        gB = 2 * A1 * cA**2 * cB - 2 * A2 * cB**2 * cC + 2 * A2 * cB * cC**2 - 2 * A3 * cA**2 * cC - 2 * B * cA**2 * cB**2 * cC + 2 * B * cA**2 * cB * cC**2\n",
    "        \n",
    "        # Fourier transforms\n",
    "        cA_tilda = cu.fft.rfft2(cA)\n",
    "        cB_tilda = cu.fft.rfft2(cB)\n",
    "        gA_tilda = cu.fft.rfft2(gA)\n",
    "        gB_tilda = cu.fft.rfft2(gB)\n",
    "\n",
    "        # Update in Fourier space\n",
    "        cA_tilda = (cA_tilda - k2 * dt * (M_AA * gA_tilda - M_AB * gB_tilda) - 2 * k4 * dt * cB_tilda * (M_AA * kAB - M_AB * kBB)) / lhsA\n",
    "        cB_tilda = (cB_tilda - k2 * dt * (M_BB * gB_tilda - M_AB * gA_tilda) - 2 * k4 * dt * cA_tilda * (M_BB * kAB - M_AB * kAA)) / lhsB\n",
    "\n",
    "        # Inverse Fourier transforms to update concentrations\n",
    "        cA = cu.fft.irfft2(cA_tilda)\n",
    "        cB = cu.fft.irfft2(cB_tilda)\n",
    "        cC = 1 - cA - cB\n",
    "\n",
    "        # Clip concentrations\n",
    "        cA = cu.clip(cA, 0, 1)\n",
    "        cB = cu.clip(cB, 0, 1)\n",
    "        cC = cu.clip(cC, 0, 1)\n",
    "\n",
    "    # Compute microstructure\n",
    "    microstruct = cu.zeros((Nx, Ny))\n",
    "    microstruct = cu.where((cA < 0.5) & (cB < 0.5) & (cC < 0.5), 0, microstruct)\n",
    "    microstruct = cu.where(cA > 0.5, cA, microstruct)\n",
    "    microstruct = cu.where(cB > 0.5, 0.65 * cB, microstruct)\n",
    "    microstruct = cu.where(cC > 0.5, 0.35 * cC, microstruct)\n",
    "    \n",
    "    end_time = time(\"s\")\n",
    "    execution_time  = end_time - start_time\n",
    "    return execution_time\n"
   ]
  },
  {
   "cell_type": "markdown",
   "metadata": {},
   "source": [
    "$\n",
    "g_A = 2 A_1  c_A  c_B^2 - 2  A_2  c_B^2  c_C - 2 A_3  c_A^2  c_C + 2  A_3  c_A  c_C^2 - 2  B  c_A^2 c_B^2  c_C + 2  B  c_A  c_B^2  c_C^2\n",
    "$\n",
    "<br>\n",
    "$\n",
    "g_B = 2 A_1 c_A^2 c_B - 2 A_2 c_B^2 c_C + 2 A_2 c_B c_C^2 - 2 A_3 c_A^2 c_C - 2 B c_A^2 c_B^2 c_C + 2 B c_A^2 c_B c_C^2\n",
    "$\n",
    "<br><br>\n",
    "The above two equations can be restrucutred as follows:\n",
    "<br><br>\n",
    "$\n",
    "g_A = 2 c_B^2 (A_1 c_A - A_2 c_C) + 2 A_3 c_A c_C (c_C - c_A) + 2 B c_A c_B^2 c_C (c_C - c_A)\n",
    "$\n",
    "<br>\n",
    "$\n",
    "g_B = 2 c_A^2 (A_1 c_B - A_3 c_C) + 2 A_2 c_B c_C (c_C - c_B) + 2 B c_A^2 c_B c_C (c_C - c_B)\n",
    "$\n",
    "<br>\n",
    "Cunumeric's performance can be increased by using the restructured equations. Reference: https://nv-legate.github.io/cunumeric/23.11/user/practices.html#merge-tasks"
   ]
  },
  {
   "cell_type": "code",
   "execution_count": 4,
   "metadata": {
    "vscode": {
     "languageId": "python"
    }
   },
   "outputs": [],
   "source": [
    "def ternary_cunumeric_optimized(n, num_iter = 2000):\n",
    "    '''\n",
    "    Optimized method: Reduce the number of operations by combining the calculations\n",
    "    and using the cu.multiply and cu.add functions.\n",
    "    '''\n",
    "    # Grid dimensions and constants\n",
    "    Nx, Ny = n, n\n",
    "    dx, dy = 1.0, 1.0  # Spatial resolution\n",
    "    dt = 0.1  # Time step\n",
    "\n",
    "    # Initialize concentrations\n",
    "    cA = (1.0 / 3) + cu.random.normal(0, 0.001, (Nx, Ny))\n",
    "    cB = (1.0 / 3) + cu.random.normal(0, 0.001, (Nx, Ny))\n",
    "    cC = 1 - cA - cB\n",
    "\n",
    "    start_time = time(\"s\")\n",
    "\n",
    "    # Create wave number arrays adjusted for rfft2\n",
    "    kx = 2 * cu.pi * cu.fft.rfftfreq(Nx, d=dx)\n",
    "    ky = 2 * cu.pi * cu.fft.fftfreq(Ny, d=dy)\n",
    "    kx, ky = cu.meshgrid(kx, ky)\n",
    "    k2 = kx**2 + ky**2\n",
    "    k4 = k2**2\n",
    "\n",
    "    # Constants for the differential operators and reaction parameters\n",
    "    M_AA, M_BB, M_AB = 1, 1, 0.5\n",
    "    kA, kB, kC = 1.0, 1.0, 1.0\n",
    "    kAA = kA + kC\n",
    "    kBB = kB + kC\n",
    "    kAB = kC\n",
    "    A1, A2, A3, B = 1.0, 1.0, 1.0, 12.0\n",
    "\n",
    "    # Precompute lhs\n",
    "    lhsA = 1 + 2 * dt * k4 * (M_AA * kAA - M_AB * kAB)\n",
    "    lhsB = 1 + 2 * dt * k4 * (M_BB * kBB - M_AB * kAB)\n",
    "\n",
    "    # Coordinates\n",
    "    x = cu.arange(0, Nx) * dx\n",
    "    y = cu.arange(0, Ny) * dy\n",
    "    z = cu.zeros(1)  # Since this is a 2D data set\n",
    "\n",
    "    # Simulation loop\n",
    "    for n in range(num_iter):\n",
    "        gA = cu.multiply(2*cB**2, A1*cA - A2 * cC) + cu.multiply(2*A3*cA*cC, cC - cA) + cu.multiply(2*B*cA*(cB**2)*cC, cC - cA)\n",
    "        gB = cu.multiply(2*cA**2, A1*cB - A3*cC) + cu.multiply(2*A2*cB*cC, cC - cB) + cu.multiply(2*B*(cA**2)*cB*cC, cC - cB)\n",
    "        \n",
    "        # Fourier transforms\n",
    "        cA_tilda = cu.fft.rfft2(cA)\n",
    "        cB_tilda = cu.fft.rfft2(cB)\n",
    "        gA_tilda = cu.fft.rfft2(gA)\n",
    "        gB_tilda = cu.fft.rfft2(gB)\n",
    "\n",
    "        # Update in Fourier space\n",
    "        cA_tilda = (cA_tilda - k2 * dt * (M_AA * gA_tilda - M_AB * gB_tilda) - 2 * k4 * dt * cB_tilda * (M_AA * kAB - M_AB * kBB)) / lhsA\n",
    "        cB_tilda = (cB_tilda - k2 * dt * (M_BB * gB_tilda - M_AB * gA_tilda) - 2 * k4 * dt * cA_tilda * (M_BB * kAB - M_AB * kAA)) / lhsB\n",
    "\n",
    "        # Inverse Fourier transforms to update concentrations\n",
    "        cA = cu.fft.irfft2(cA_tilda)\n",
    "        cB = cu.fft.irfft2(cB_tilda)\n",
    "        cC = cu.subtract(1, cu.add(cA, cB))\n",
    "\n",
    "        # Clip concentrations\n",
    "        cA = cu.clip(cA, 0, 1)\n",
    "        cB = cu.clip(cB, 0, 1)\n",
    "        cC = cu.clip(cC, 0, 1)\n",
    "\n",
    "    # Compute microstructure\n",
    "    microstruct = cu.zeros((Nx, Ny))\n",
    "    microstruct = cu.where((cA < 0.5) & (cB < 0.5) & (cC < 0.5), 0, microstruct)\n",
    "    microstruct = cu.where(cA > 0.5, cA, microstruct)\n",
    "    microstruct = cu.where(cB > 0.5, 0.65 * cB, microstruct)\n",
    "    microstruct = cu.where(cC > 0.5, 0.35 * cC, microstruct)\n",
    "\n",
    "    end_time = time(\"s\")\n",
    "    execution_time  = end_time - start_time\n",
    "    return execution_time"
   ]
  },
  {
   "cell_type": "code",
   "execution_count": 5,
   "metadata": {
    "vscode": {
     "languageId": "python"
    }
   },
   "outputs": [],
   "source": [
    "NUM_ITER = 2000\n",
    "N = 256"
   ]
  },
  {
   "cell_type": "code",
   "execution_count": 11,
   "metadata": {
    "vscode": {
     "languageId": "python"
    }
   },
   "outputs": [
    {
     "name": "stdout",
     "output_type": "stream",
     "text": [
      "Time taken by NumPy: 19.376525025999968 s\n",
      "/tmp/ipykernel_1221608/195503825.py:18: RuntimeWarning: cuNumeric has not implemented numpy.fft.rfftfreq and is falling back to canonical numpy. You may notice significantly decreased performance for this function call.\n",
      "  kx = 2 * cu.pi * cu.fft.rfftfreq(Nx, d=dx)\n",
      "/tmp/ipykernel_1221608/195503825.py:19: RuntimeWarning: cuNumeric has not implemented numpy.fft.fftfreq and is falling back to canonical numpy. You may notice significantly decreased performance for this function call.\n",
      "  ky = 2 * cu.pi * cu.fft.fftfreq(Ny, d=dy)\n",
      "/home/co21btech11001/miniconda3/envs/nb_env/lib/python3.10/site-packages/cunumeric/array.py:3926: DeprecationWarning: np.find_common_type is deprecated.  Please use `np.result_type` or `np.promote_types`.\n",
      "See https://numpy.org/devdocs/release/1.25.0-notes.html and the docs for more information.  (Deprecated NumPy 1.25)\n",
      "  return np.find_common_type(array_types, scalar_types)\n",
      "Time taken by cunumeric (naive): 54.56668152499998 s\n",
      "/tmp/ipykernel_1221608/615530128.py:19: RuntimeWarning: cuNumeric has not implemented numpy.fft.rfftfreq and is falling back to canonical numpy. You may notice significantly decreased performance for this function call.\n",
      "  kx = 2 * cu.pi * cu.fft.rfftfreq(Nx, d=dx)\n",
      "/tmp/ipykernel_1221608/615530128.py:20: RuntimeWarning: cuNumeric has not implemented numpy.fft.fftfreq and is falling back to canonical numpy. You may notice significantly decreased performance for this function call.\n",
      "  ky = 2 * cu.pi * cu.fft.fftfreq(Ny, d=dy)\n",
      "Time taken by cunumeric (optimized): 37.91035597299998 s\n"
     ]
    }
   ],
   "source": [
    "np_time = ternary_numpy(N, NUM_ITER)\n",
    "print(f\"Time taken by NumPy: {np_time} s\")\n",
    "cun_naive_time = ternary_cunumeric_naive(N, NUM_ITER)\n",
    "print(f\"Time taken by cunumeric (naive): {cun_naive_time} s\")\n",
    "cun_optimized_time = ternary_cunumeric_optimized(N, NUM_ITER)\n",
    "print(f\"Time taken by cunumeric (optimized): {cun_optimized_time} s\")"
   ]
  },
  {
   "cell_type": "markdown",
   "metadata": {},
   "source": [
    "### Note\n",
    "- Time taken by NumPy: 19.4 seconds\n",
    "- Time taken by CuNumeric (naive): 54.5 s\n",
    "- Time taken by CuNumeric (optimized): 37.9 s"
   ]
  },
  {
   "cell_type": "code",
   "execution_count": null,
   "metadata": {
    "vscode": {
     "languageId": "python"
    }
   },
   "outputs": [],
   "source": []
  }
 ],
 "metadata": {
  "kernelspec": {
   "display_name": "Legate_SM_GPU",
   "language": "python",
   "name": "legate_sm_gpu"
  },
  "language_info": {
   "codemirror_mode": {
    "name": "ipython",
    "version": 3
   },
   "file_extension": ".py",
   "mimetype": "text/x-python",
   "name": "legion_kernel",
   "nbconvert_exporter": "python",
   "pygments_lexer": "ipython3"
  }
 },
 "nbformat": 4,
 "nbformat_minor": 2
}
