{
 "cells": [
  {
   "cell_type": "code",
   "execution_count": 1,
   "metadata": {
    "vscode": {
     "languageId": "python"
    }
   },
   "outputs": [],
   "source": [
    "import numpy as np\n",
    "from legate.timing import time\n",
    "import cunumeric as cu\n",
    "import scipy as sc\n",
    "import pyfftw\n",
    "from tqdm import tqdm\n",
    "import matplotlib.pyplot as plt\n",
    "from ternay_utils  import (\n",
    "    ternary_numpy,\n",
    "    ternary_scipy,\n",
    "    ternary_pyfftw,\n",
    "    ternary_cunumeric_naive,\n",
    "    ternary_cunumeric_optimized\n",
    ")\n",
    "# Set random seed for reproducibility\n",
    "np.random.seed(714)\n",
    "cu.random.seed(714)"
   ]
  },
  {
   "cell_type": "code",
   "execution_count": 2,
   "metadata": {
    "vscode": {
     "languageId": "python"
    }
   },
   "outputs": [
    {
     "name": "stderr",
     "output_type": "stream",
     "text": [
      "  0%|          | 0/7 [00:00<?, ?it/s]"
     ]
    },
    {
     "name": "stdout",
     "output_type": "stream",
     "text": [
      "/home/co21btech11001/main/CMS_Lab_GPU_Codes/aaryan/notebooks/ternay_utils.py:99: RuntimeWarning: cuNumeric has not implemented numpy.fft.rfftfreq and is falling back to canonical numpy. You may notice significantly decreased performance for this function call.\n",
      "  kx = 2 * cu.pi * cu.fft.rfftfreq(Nx, d=dx)\n",
      "/home/co21btech11001/main/CMS_Lab_GPU_Codes/aaryan/notebooks/ternay_utils.py:100: RuntimeWarning: cuNumeric has not implemented numpy.fft.fftfreq and is falling back to canonical numpy. You may notice significantly decreased performance for this function call.\n",
      "  ky = 2 * cu.pi * cu.fft.fftfreq(Ny, d=dy)\n",
      "/home/co21btech11001/main/CMS_Lab_GPU_Codes/aaryan/notebooks/ternay_utils.py:176: RuntimeWarning: cuNumeric has not implemented numpy.fft.rfftfreq and is falling back to canonical numpy. You may notice significantly decreased performance for this function call.\n",
      "  kx = 2 * cu.pi * cu.fft.rfftfreq(Nx, d=dx)\n",
      "/home/co21btech11001/main/CMS_Lab_GPU_Codes/aaryan/notebooks/ternay_utils.py:177: RuntimeWarning: cuNumeric has not implemented numpy.fft.fftfreq and is falling back to canonical numpy. You may notice significantly decreased performance for this function call.\n",
      "  ky = 2 * cu.pi * cu.fft.fftfreq(Ny, d=dy)\n"
     ]
    },
    {
     "name": "stderr",
     "output_type": "stream",
     "text": [
      " 14%|█▍        | 1/7 [00:29<02:57, 29.66s/it]"
     ]
    }
   ],
   "source": [
    "sizes = [16, 32, 64, 128, 256, 512, 1024]\n",
    "NUM_ITER = 2000\n",
    "\n",
    "# Measure time taken for each size\n",
    "time_numpy = []\n",
    "time_pyfftw = []\n",
    "time_scipy = []\n",
    "time_cunumeric_naive = []\n",
    "time_cunumeric_optimized = []\n",
    "\n",
    "for size in tqdm(sizes):\n",
    "    time_numpy.append(ternary_numpy(size, num_iter=NUM_ITER))\n",
    "    time_pyfftw.append(ternary_pyfftw(size, num_iter=NUM_ITER))\n",
    "    time_scipy.append(ternary_scipy(size, num_iter=NUM_ITER))\n",
    "    time_cunumeric_naive.append(ternary_cunumeric_naive(size, num_iter=NUM_ITER))\n",
    "    time_cunumeric_optimized.append(ternary_cunumeric_optimized(size, num_iter=NUM_ITER))\n",
    "    # print(f'size {size} done')"
   ]
  },
  {
   "cell_type": "code",
   "execution_count": null,
   "metadata": {
    "vscode": {
     "languageId": "python"
    }
   },
   "outputs": [],
   "source": [
    "# Plotting\n",
    "plt.figure(figsize=(10, 6))\n",
    "plt.plot(sizes, time_pyfftw, label='PyFFTW')\n",
    "plt.plot(sizes, time_numpy, label = 'Numpy')\n",
    "plt.plot(sizes, time_scipy, label='SciPy')\n",
    "plt.plot(sizes, time_cunumeric_naive, label='Cunumeric (Naive)')\n",
    "plt.plot(sizes, time_cunumeric_optimized, label='Cunumeric (Optimized)')\n",
    "plt.title('TernaryV5 Performance Comparison')\n",
    "plt.xlabel('Array Size')\n",
    "plt.ylabel('Time (s)')\n",
    "plt.legend()\n",
    "plt.grid(True)\n",
    "plt.show()"
   ]
  },
  {
   "cell_type": "code",
   "execution_count": null,
   "metadata": {
    "vscode": {
     "languageId": "python"
    }
   },
   "outputs": [],
   "source": []
  }
 ],
 "metadata": {
  "kernelspec": {
   "display_name": "Legate_SM_GPU",
   "language": "python",
   "name": "legate_sm_gpu"
  },
  "language_info": {
   "codemirror_mode": {
    "name": "ipython",
    "version": 3
   },
   "file_extension": ".py",
   "mimetype": "text/x-python",
   "name": "legion_kernel",
   "nbconvert_exporter": "python",
   "pygments_lexer": "ipython3"
  }
 },
 "nbformat": 4,
 "nbformat_minor": 2
}
