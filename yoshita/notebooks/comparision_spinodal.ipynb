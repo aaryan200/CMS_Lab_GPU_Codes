{
 "cells": [
  {
   "cell_type": "code",
   "execution_count": 1,
   "metadata": {
    "vscode": {
     "languageId": "python"
    }
   },
   "outputs": [
    {
     "name": "stdout",
     "output_type": "stream",
     "text": [
      "/bin/bash: /home/co21btech11008/miniconda3/envs/cuNu/lib/libtinfo.so.6: no version information available (required by /bin/bash)\n",
      "Requirement already satisfied: pyfftw in /home/co21btech11008/miniconda3/envs/cuNu/lib/python3.9/site-packages (0.13.1)\n",
      "Requirement already satisfied: scipy in /home/co21btech11008/miniconda3/envs/cuNu/lib/python3.9/site-packages (1.12.0)\n",
      "Requirement already satisfied: numpy<2.0,>=1.20 in /home/co21btech11008/miniconda3/envs/cuNu/lib/python3.9/site-packages (from pyfftw) (1.26.4)\n",
      "Note: you may need to restart the kernel to use updated packages.\n"
     ]
    }
   ],
   "source": [
    "%pip install pyfftw scipy"
   ]
  },
  {
   "cell_type": "code",
   "execution_count": 2,
   "metadata": {
    "vscode": {
     "languageId": "python"
    }
   },
   "outputs": [
    {
     "name": "stdout",
     "output_type": "stream",
     "text": [
      "/home/co21btech11008/miniconda3/envs/cuNu/lib/python3.9/site-packages/legate/core/__init__.py:143: Warning: \n",
      "        Seeding the random number generator with a non-constant value \n",
      "        inside Legate can lead to undefined behavior and/or errors when \n",
      "        the program is executed with multiple ranks.\n",
      "  warnings.warn(msg, Warning)\n",
      "size 16 done\n",
      "size 32 done\n",
      "size 64 done\n",
      "size 128 done\n",
      "size 256 done\n",
      "size 512 done\n"
     ]
    }
   ],
   "source": [
    "import numpy as np\n",
    "import cunumeric as cu\n",
    "import matplotlib.pyplot as plt\n",
    "import pyfftw\n",
    "from scipy.fft import fft2 as scipy_fft2\n",
    "from legate.timing import time\n",
    "\n",
    "def spinodal_pyfftw(n):\n",
    "    Nx = Ny = n\n",
    "    c = 0.5 * np.ones([Nx, Ny])\n",
    "    np.random.seed(1024)\n",
    "    random_num = np.random.normal(0, 0.01, (Nx, Ny))\n",
    "    c = c - random_num\n",
    "\n",
    "    dx = 1.0\n",
    "    dy = 1.0\n",
    "    dt = 0.5\n",
    "    cnew = c\n",
    "\n",
    "    delkx = 2 * np.pi / (Nx * dx)\n",
    "    delky = 2 * np.pi / (Ny * dy)\n",
    "\n",
    "    A = 1\n",
    "    M = 1\n",
    "    kappa = 1\n",
    "\n",
    "    start_time = time()\n",
    "\n",
    "    i_indices = np.arange(Nx)\n",
    "    j_indices = np.arange(Ny)\n",
    "\n",
    "    kx = np.where(i_indices <= Nx/2, i_indices * delkx, (i_indices - Nx) * delkx)\n",
    "    ky = np.where(j_indices <= Ny/2, j_indices * delky, (j_indices - Ny) * delky)\n",
    "\n",
    "    k2 = kx[:, np.newaxis]**2 + ky[np.newaxis, :]**2\n",
    "    k4 = k2**2\n",
    "\n",
    "    for m in range(50):\n",
    "        for n in range(100):\n",
    "            mult = (1 - cnew) * (1 - 2 * cnew)\n",
    "            g = 2 * A * cnew * mult\n",
    "            ghat = pyfftw.interfaces.numpy_fft.fft2(g)\n",
    "            chat = pyfftw.interfaces.numpy_fft.fft2(cnew)\n",
    "            chat = (chat - M * dt * k2 * ghat) / (1 + 2 * M * kappa * k4 * dt)\n",
    "            cnew = pyfftw.interfaces.numpy_fft.ifft2(chat).real\n",
    "            c = cnew\n",
    "\n",
    "    end_time = time()\n",
    "    execution_time = end_time - start_time\n",
    "    return execution_time/1000\n",
    "\n",
    "def spinodal_scipy(n):\n",
    "    Nx = Ny = n\n",
    "    c = 0.5 * np.ones([Nx, Ny])\n",
    "    np.random.seed(1024)\n",
    "    random_num = np.random.normal(0, 0.01, (Nx, Ny))\n",
    "    c = c - random_num\n",
    "\n",
    "    dx = 1.0\n",
    "    dy = 1.0\n",
    "    dt = 0.5\n",
    "    cnew = c\n",
    "\n",
    "    delkx = 2 * np.pi / (Nx * dx)\n",
    "    delky = 2 * np.pi / (Ny * dy)\n",
    "\n",
    "    A = 1\n",
    "    M = 1\n",
    "    kappa = 1\n",
    "\n",
    "    start_time = time()\n",
    "\n",
    "    i_indices = np.arange(Nx)\n",
    "    j_indices = np.arange(Ny)\n",
    "\n",
    "    kx = np.where(i_indices <= Nx/2, i_indices * delkx, (i_indices - Nx) * delkx)\n",
    "    ky = np.where(j_indices <= Ny/2, j_indices * delky, (j_indices - Ny) * delky)\n",
    "\n",
    "    k2 = kx[:, np.newaxis]**2 + ky[np.newaxis, :]**2\n",
    "    k4 = k2**2\n",
    "\n",
    "    for m in range(50):\n",
    "        for n in range(100):\n",
    "            mult = (1 - cnew) * (1 - 2 * cnew)\n",
    "            g = 2 * A * cnew * mult\n",
    "            ghat = scipy_fft2(g)\n",
    "            chat = scipy_fft2(cnew)\n",
    "            chat = (chat - M * dt * k2 * ghat) / (1 + 2 * M * kappa * k4 * dt)\n",
    "            cnew = np.fft.ifft2(chat).real\n",
    "            c = cnew\n",
    "\n",
    "    end_time = time()\n",
    "    execution_time = end_time - start_time\n",
    "    return execution_time/1000\n",
    "\n",
    "def spinodal_cunumeric(n):\n",
    "    Nx = Ny = n\n",
    "    c = 0.5 * cu.ones([Nx, Ny])\n",
    "    cu.random.seed(1024)\n",
    "    random_num = cu.random.normal(0, 0.01, (Nx, Ny))\n",
    "    c = c - random_num\n",
    "\n",
    "    dx = 1.0\n",
    "    dy = 1.0\n",
    "    dt = 0.5\n",
    "    cnew = c\n",
    "\n",
    "    delkx = 2 * np.pi / (Nx * dx)\n",
    "    delky = 2 * np.pi / (Ny * dy)\n",
    "\n",
    "    A = 1\n",
    "    M = 1\n",
    "    kappa = 1\n",
    "\n",
    "    start_time = time()\n",
    "\n",
    "    i_indices = cu.arange(Nx)\n",
    "    j_indices = cu.arange(Ny)\n",
    "\n",
    "    kx = cu.where(i_indices <= Nx/2, i_indices * delkx, (i_indices - Nx) * delkx)\n",
    "    ky = cu.where(j_indices <= Ny/2, j_indices * delky, (j_indices - Ny) * delky)\n",
    "\n",
    "    k2 = kx[:, cu.newaxis]**2 + ky[cu.newaxis, :]**2\n",
    "    k4 = k2**2\n",
    "\n",
    "    for m in range(50):\n",
    "        for n in range(100):\n",
    "            mult = (1 - cnew) * (1 - 2 * cnew)\n",
    "            g = 2 * A * cnew * mult\n",
    "            ghat = cu.fft.fft2(g)\n",
    "            chat = cu.fft.fft2(cnew)\n",
    "            chat = (chat - M * dt * k2 * ghat) / (1 + 2 * M * kappa * k4 * dt)\n",
    "            cnew = cu.fft.ifft2(chat).real\n",
    "            c = cnew\n",
    "\n",
    "    end_time = time()\n",
    "    execution_time = end_time - start_time\n",
    "    return execution_time/1000\n",
    "\n",
    "# Range of array sizes\n",
    "sizes = [16, 32, 64, 128, 256, 512, 1024]\n",
    "# sizes = [16, 32]\n",
    "\n",
    "# Measure time taken for each size\n",
    "time_pyfftw = []\n",
    "time_scipy = []\n",
    "time_cunumeric = []\n",
    "\n",
    "for size in sizes:\n",
    "    time_pyfftw.append(spinodal_pyfftw(size))\n",
    "    time_scipy.append(spinodal_scipy(size))\n",
    "    time_cunumeric.append(spinodal_cunumeric(size))\n",
    "    print(f'size {size} done')\n",
    "\n",
    "# Plotting\n",
    "plt.figure(figsize=(10, 6))\n",
    "plt.plot(sizes, time_pyfftw, label='PyFFTW')\n",
    "plt.plot(sizes, time_scipy, label='SciPy')\n",
    "plt.plot(sizes, time_cunumeric, label='cunumeric')\n",
    "plt.title('Spinodal 2D Performance Comparison')\n",
    "plt.xlabel('Array Size')\n",
    "plt.ylabel('Time (milliseconds)')\n",
    "plt.legend()\n",
    "plt.grid(True)\n",
    "plt.show()\n"
   ]
  },
  {
   "cell_type": "code",
   "execution_count": 1,
   "metadata": {
    "vscode": {
     "languageId": "python"
    }
   },
   "outputs": [],
   "source": [
    "time_cuda = [0.007168, 0.008192, 0.009216, 0.012288, 0.029696, 0.082944, 0.316416] # in milliseconds"
   ]
  },
  {
   "cell_type": "code",
   "execution_count": 2,
   "metadata": {
    "vscode": {
     "languageId": "python"
    }
   },
   "outputs": [
    {
     "ename": "NameError",
     "evalue": "name 'plt' is not defined",
     "output_type": "error",
     "traceback": [
      "\u001b[0;31m---------------------------------------------------------------------------\u001b[0m",
      "\u001b[0;31mNameError\u001b[0m                                 Traceback (most recent call last)",
      "Cell \u001b[0;32mIn[2], line 1\u001b[0m\n\u001b[0;32m----> 1\u001b[0m \u001b[43mplt\u001b[49m\u001b[38;5;241m.\u001b[39mfigure(figsize\u001b[38;5;241m=\u001b[39m(\u001b[38;5;241m10\u001b[39m, \u001b[38;5;241m6\u001b[39m))\n\u001b[1;32m      2\u001b[0m plt\u001b[38;5;241m.\u001b[39mplot(sizes, time_pyfftw, label\u001b[38;5;241m=\u001b[39m\u001b[38;5;124m'\u001b[39m\u001b[38;5;124mPyFFTW\u001b[39m\u001b[38;5;124m'\u001b[39m)\n\u001b[1;32m      3\u001b[0m plt\u001b[38;5;241m.\u001b[39mplot(sizes, time_scipy, label\u001b[38;5;241m=\u001b[39m\u001b[38;5;124m'\u001b[39m\u001b[38;5;124mSciPy\u001b[39m\u001b[38;5;124m'\u001b[39m)\n",
      "\u001b[0;31mNameError\u001b[0m: name 'plt' is not defined"
     ]
    }
   ],
   "source": [
    "plt.figure(figsize=(10, 6))\n",
    "plt.plot(sizes, time_pyfftw, label='PyFFTW')\n",
    "plt.plot(sizes, time_scipy, label='SciPy')\n",
    "plt.plot(sizes, time_cunumeric, label='cunumeric')\n",
    "plt.plot(sizes,time_cuda, label='cuda')\n",
    "plt.title('Spinodal 2D Performance Comparison')\n",
    "plt.xlabel('Array Size')\n",
    "plt.ylabel('Time (milliseconds)')\n",
    "plt.legend()\n",
    "plt.grid(True)\n",
    "plt.show()"
   ]
  },
  {
   "cell_type": "code",
   "execution_count": null,
   "metadata": {
    "vscode": {
     "languageId": "python"
    }
   },
   "outputs": [],
   "source": []
  }
 ],
 "metadata": {
  "kernelspec": {
   "display_name": "Legate_SM_GPU",
   "language": "python",
   "name": "legate_sm_gpu"
  },
  "language_info": {
   "codemirror_mode": {
    "name": "ipython",
    "version": 3
   },
   "file_extension": ".py",
   "mimetype": "text/x-python",
   "name": "legion_kernel",
   "nbconvert_exporter": "python",
   "pygments_lexer": "ipython3"
  }
 },
 "nbformat": 4,
 "nbformat_minor": 2
}
